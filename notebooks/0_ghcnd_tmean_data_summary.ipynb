{
 "cells": [
  {
   "cell_type": "code",
   "execution_count": 1,
   "id": "b1a2765c",
   "metadata": {},
   "outputs": [],
   "source": [
    "import pandas as pd\n",
    "import numpy as np\n",
    "from pathlib import Path\n",
    "\n",
    "GHCND_PATH = Path(\"/mnt/d/climate_data/ghcnd/data/\")\n",
    "DATA_DOC_PATH = Path(\"./data/dataset_docs/\")"
   ]
  },
  {
   "cell_type": "code",
   "execution_count": null,
   "id": "72fcc21b",
   "metadata": {},
   "outputs": [],
   "source": [
    "def load_stn_tmean(stn_id):\n",
    "    \"\"\"\n",
    "    Load GHCN-d TMEAN data that passed QC into a dataframe with datetime index\n",
    "    \"\"\"\n",
    "    # Load and reindex data\n",
    "    df = pd.read_csv(GHCND_PATH / f\"{stn_id}.csv\", low_memory=False, usecols=['DATE', 'TMAX', 'TMIN', 'TMAX_ATTRIBUTES', 'TMIN_ATTRIBUTES'], index_col='DATE', parse_dates=True, na_values=[9999, -9999]).asfreq('D')\n",
    "\n",
    "    # Remove flagged data\n",
    "    tmax_split = df['TMAX_ATTRIBUTES'].str.split(',', expand=True)\n",
    "    tmin_split = df['TMIN_ATTRIBUTES'].str.split(',', expand=True)\n",
    "\n",
    "    ## Set to NaN if flag1 or flag2 is not empty\n",
    "    df.loc[(tmax_split[0] != '') | (tmax_split[1] != ''), 'TMAX'] = np.nan\n",
    "    df.loc[(tmin_split[0] != '') | (tmin_split[1] != ''), 'TMIN'] = np.nan\n",
    "\n",
    "    df[\"TMEAN\"] = (df[\"TMAX\"] + df[\"TMIN\"]) / 20 # TEMP data stored as tenth of Celsius\n",
    "\n",
    "    return df.drop(columns=['TMAX', 'TMIN', 'TMAX_ATTRIBUTES', 'TMIN_ATTRIBUTES'])\n",
    "\n",
    "def get_stn_tmean_summary(stn_id):\n",
    "    \"\"\"\n",
    "    Compute station data summary \n",
    "    \"\"\"\n",
    "    try:\n",
    "        temp_df = load_stn_tmean(stn_id)\n",
    "    except:\n",
    "        return (np.nan, 0, np.nan)\n",
    "    POR_Date_Range = temp_df.index[0].strftime(\"%Y%m%d\")+\"-\"+temp_df.index[-1].strftime(\"%Y%m%d\")\n",
    "    Num_Years = len(temp_df.index.year.unique())\n",
    "    PCT_POR_Good = (len(temp_df[\"TMEAN\"].dropna()) / len(temp_df)) * 100\n",
    "    return (POR_Date_Range, Num_Years, round(PCT_POR_Good, 1))"
   ]
  },
  {
   "cell_type": "code",
   "execution_count": 3,
   "id": "198435c1",
   "metadata": {},
   "outputs": [
    {
     "data": {
      "application/vnd.microsoft.datawrangler.viewer.v0+json": {
       "columns": [
        {
         "name": "index",
         "rawType": "int64",
         "type": "integer"
        },
        {
         "name": "StnID",
         "rawType": "object",
         "type": "string"
        },
        {
         "name": "LAT",
         "rawType": "float64",
         "type": "float"
        },
        {
         "name": "LON",
         "rawType": "float64",
         "type": "float"
        },
        {
         "name": "ELEV",
         "rawType": "float64",
         "type": "float"
        },
        {
         "name": "STATE",
         "rawType": "object",
         "type": "string"
        },
        {
         "name": "NAME",
         "rawType": "object",
         "type": "string"
        }
       ],
       "conversionMethod": "pd.DataFrame",
       "ref": "214491d7-611c-471b-a67e-37856a2ff245",
       "rows": [
        [
         "0",
         "US009052008",
         "43.7333",
         "-96.6333",
         "482.0",
         "SD",
         "SIOUX FALLS (ENVIRON. CANADA)"
        ],
        [
         "1",
         "US10RMHS145",
         "40.5268",
         "-105.1113",
         "1569.1",
         "CO",
         "RMHS 1.6 SSW"
        ],
        [
         "2",
         "US10adam001",
         "40.568",
         "-98.5069",
         "598.0",
         "NE",
         "JUNIATA 1.5 S"
        ],
        [
         "3",
         "US10adam002",
         "40.5093",
         "-98.5493",
         "601.1",
         "NE",
         "JUNIATA 6.0 SSW"
        ],
        [
         "4",
         "US10adam003",
         "40.4663",
         "-98.6537",
         "615.1",
         "NE",
         "HOLSTEIN 0.1 NW"
        ],
        [
         "5",
         "US10adam004",
         "40.4798",
         "-98.4026",
         "570.0",
         "NE",
         "AYR 3.5 NE"
        ],
        [
         "6",
         "US10adam006",
         "40.4372",
         "-98.5912",
         "601.1",
         "NE",
         "ROSELAND 2.8 SW"
        ],
        [
         "7",
         "US10adam007",
         "40.5389",
         "-98.4713",
         "588.9",
         "NE",
         "HASTINGS 5.4 WSW"
        ],
        [
         "8",
         "US10adam008",
         "40.4953",
         "-98.2973",
         "566.9",
         "NE",
         "GLENVIL 2.3 WSW"
        ],
        [
         "9",
         "US10adam010",
         "40.5532",
         "-98.6297",
         "622.1",
         "NE",
         "JUNIATA 6.9 WSW"
        ],
        [
         "10",
         "US10adam011",
         "40.4078",
         "-98.6161",
         "593.1",
         "NE",
         "ROSELAND 5.2 SW"
        ],
        [
         "11",
         "US10adam012",
         "40.62",
         "-98.39",
         "588.9",
         "NE",
         "HASTINGS 2.3 N"
        ],
        [
         "12",
         "US10adam013",
         "40.66",
         "-98.42",
         "598.0",
         "NE",
         "HASTINGS 5.3 NNW"
        ],
        [
         "13",
         "US10adam015",
         "40.6258",
         "-98.7034",
         "632.2",
         "NE",
         "KENESAW 2.4 W"
        ],
        [
         "14",
         "US10adam016",
         "40.64",
         "-98.3949",
         "598.0",
         "NE",
         "HASTINGS 3.7 N"
        ],
        [
         "15",
         "US10adam017",
         "40.6567",
         "-98.4789",
         "607.2",
         "NE",
         "JUNIATA 4.8 NNE"
        ],
        [
         "16",
         "US10adam019",
         "40.6114",
         "-98.5543",
         "619.0",
         "NE",
         "JUNIATA 2.9 WNW"
        ],
        [
         "17",
         "US10adam022",
         "40.5936",
         "-98.4299",
         "597.1",
         "NE",
         "HASTINGS 2.2 W"
        ],
        [
         "18",
         "US10adam023",
         "40.5981",
         "-98.4732",
         "602.0",
         "NE",
         "JUNIATA 1.8 ENE"
        ],
        [
         "19",
         "US10adam024",
         "40.3901",
         "-98.2715",
         "548.9",
         "NE",
         "BLUE HILL 6.3 ENE"
        ],
        [
         "20",
         "US10adam025",
         "40.6004",
         "-98.3986",
         "587.0",
         "NE",
         "HASTINGS 1.1 NW"
        ],
        [
         "21",
         "US10adam027",
         "40.5998",
         "-98.4723",
         "597.1",
         "NE",
         "JUNIATA 1.9 ENE"
        ],
        [
         "22",
         "US10adam028",
         "40.4653",
         "-98.6517",
         "616.0",
         "NE",
         "HOLSTEIN 0.1 ESE"
        ],
        [
         "23",
         "US10adam029",
         "40.5536",
         "-98.3166",
         "616.0",
         "NE",
         "HASTINGS 4.4 ESE"
        ],
        [
         "24",
         "US10adam032",
         "40.3571",
         "-98.4208",
         "616.0",
         "NE",
         "BLUE HILL 2.2 NE"
        ],
        [
         "25",
         "US10adam033",
         "40.4127",
         "-98.3538",
         "616.0",
         "NE",
         "GLENVIL 8.3 SW"
        ],
        [
         "26",
         "US10adam034",
         "40.6129",
         "-98.6482",
         "616.0",
         "NE",
         "KENESAW 0.8 SE"
        ],
        [
         "27",
         "US10adam035",
         "40.607",
         "-98.4588",
         "616.0",
         "NE",
         "JUNIATA 2.7 ENE"
        ],
        [
         "28",
         "US10adam036",
         "40.5609",
         "-98.402",
         "616.0",
         "NE",
         "HASTINGS 1.9 SSW"
        ],
        [
         "29",
         "US10adam039",
         "40.602",
         "-98.4048",
         "616.0",
         "NE",
         "HASTINGS 1.4 NW"
        ],
        [
         "30",
         "US10adam041",
         "40.434",
         "-98.4389",
         "616.0",
         "NE",
         "AYR 0.3 SSE"
        ],
        [
         "31",
         "US10adam043",
         "40.5917",
         "-98.5092",
         "616.0",
         "NE",
         "JUNIATA 0.2 WNW"
        ],
        [
         "32",
         "US10adam045",
         "40.6121",
         "-98.3888",
         "616.0",
         "NE",
         "HASTINGS 1.8 N"
        ],
        [
         "33",
         "US10adam046",
         "40.5443",
         "-98.4208",
         "616.0",
         "NE",
         "HASTINGS 3.3 SW"
        ],
        [
         "34",
         "US10adam047",
         "40.5917",
         "-98.4287",
         "616.0",
         "NE",
         "HASTINGS 2.1 W"
        ],
        [
         "35",
         "US10adam051",
         "40.4166",
         "-98.5341",
         "616.0",
         "NE",
         "ROSELAND 3.9 SSE"
        ],
        [
         "36",
         "US10adam053",
         "40.5551",
         "-98.3538",
         "616.0",
         "NE",
         "HASTINGS 2.8 SE"
        ],
        [
         "37",
         "US10adam054",
         "40.5949",
         "-98.427",
         "616.0",
         "NE",
         "HASTINGS 2.1 WNW"
        ],
        [
         "38",
         "US10adam056",
         "40.58",
         "-98.3717",
         "616.0",
         "NE",
         "HASTINGS 1.0 ESE"
        ],
        [
         "39",
         "US10adam057",
         "40.6607",
         "-98.5535",
         "616.0",
         "NE",
         "PROSSER 2.2 SE"
        ],
        [
         "40",
         "US10ante003",
         "42.3374",
         "-98.2405",
         "559.0",
         "NE",
         "ORCHARD 0.2 ENE"
        ],
        [
         "41",
         "US10arth002",
         "41.3955",
         "-101.4074",
         "1068.9",
         "NE",
         "PAXTON 18.9 N"
        ],
        [
         "42",
         "US10bann001",
         "41.6581",
         "-103.6151",
         "1278.0",
         "NE",
         "HARRISBURG 9.5 NE"
        ],
        [
         "43",
         "US10bann005",
         "41.6415",
         "-103.9481",
         "1375.0",
         "NE",
         "HARRISBURG 12.4 WNW"
        ],
        [
         "44",
         "US10bann006",
         "41.5589",
         "-103.7407",
         "1366.1",
         "NE",
         "HARRISBURG 0.2 NW"
        ],
        [
         "45",
         "US10bann007",
         "41.5037",
         "-103.7634",
         "1366.1",
         "NE",
         "SCOTTSBLUFF 25.5 SSW"
        ],
        [
         "46",
         "US10bann008",
         "41.6363",
         "-103.6842",
         "1288.1",
         "NE",
         "HARRISBURG 6.2 NE"
        ],
        [
         "47",
         "US10bann009",
         "41.6804",
         "-103.6852",
         "1288.1",
         "NE",
         "GERING 10.1 S"
        ],
        [
         "48",
         "US10blai001",
         "41.9138",
         "-99.9644",
         "797.1",
         "NE",
         "DUNNING 9.4 ENE"
        ],
        [
         "49",
         "US10blai003",
         "41.7609",
         "-100.2353",
         "841.9",
         "NE",
         "DUNNING 8.2 WSW"
        ]
       ],
       "shape": {
        "columns": 6,
        "rows": 65170
       }
      },
      "text/html": [
       "<div>\n",
       "<style scoped>\n",
       "    .dataframe tbody tr th:only-of-type {\n",
       "        vertical-align: middle;\n",
       "    }\n",
       "\n",
       "    .dataframe tbody tr th {\n",
       "        vertical-align: top;\n",
       "    }\n",
       "\n",
       "    .dataframe thead th {\n",
       "        text-align: right;\n",
       "    }\n",
       "</style>\n",
       "<table border=\"1\" class=\"dataframe\">\n",
       "  <thead>\n",
       "    <tr style=\"text-align: right;\">\n",
       "      <th></th>\n",
       "      <th>StnID</th>\n",
       "      <th>LAT</th>\n",
       "      <th>LON</th>\n",
       "      <th>ELEV</th>\n",
       "      <th>STATE</th>\n",
       "      <th>NAME</th>\n",
       "    </tr>\n",
       "  </thead>\n",
       "  <tbody>\n",
       "    <tr>\n",
       "      <th>0</th>\n",
       "      <td>US009052008</td>\n",
       "      <td>43.7333</td>\n",
       "      <td>-96.6333</td>\n",
       "      <td>482.0</td>\n",
       "      <td>SD</td>\n",
       "      <td>SIOUX FALLS (ENVIRON. CANADA)</td>\n",
       "    </tr>\n",
       "    <tr>\n",
       "      <th>1</th>\n",
       "      <td>US10RMHS145</td>\n",
       "      <td>40.5268</td>\n",
       "      <td>-105.1113</td>\n",
       "      <td>1569.1</td>\n",
       "      <td>CO</td>\n",
       "      <td>RMHS 1.6 SSW</td>\n",
       "    </tr>\n",
       "    <tr>\n",
       "      <th>2</th>\n",
       "      <td>US10adam001</td>\n",
       "      <td>40.5680</td>\n",
       "      <td>-98.5069</td>\n",
       "      <td>598.0</td>\n",
       "      <td>NE</td>\n",
       "      <td>JUNIATA 1.5 S</td>\n",
       "    </tr>\n",
       "    <tr>\n",
       "      <th>3</th>\n",
       "      <td>US10adam002</td>\n",
       "      <td>40.5093</td>\n",
       "      <td>-98.5493</td>\n",
       "      <td>601.1</td>\n",
       "      <td>NE</td>\n",
       "      <td>JUNIATA 6.0 SSW</td>\n",
       "    </tr>\n",
       "    <tr>\n",
       "      <th>4</th>\n",
       "      <td>US10adam003</td>\n",
       "      <td>40.4663</td>\n",
       "      <td>-98.6537</td>\n",
       "      <td>615.1</td>\n",
       "      <td>NE</td>\n",
       "      <td>HOLSTEIN 0.1 NW</td>\n",
       "    </tr>\n",
       "    <tr>\n",
       "      <th>...</th>\n",
       "      <td>...</td>\n",
       "      <td>...</td>\n",
       "      <td>...</td>\n",
       "      <td>...</td>\n",
       "      <td>...</td>\n",
       "      <td>...</td>\n",
       "    </tr>\n",
       "    <tr>\n",
       "      <th>65165</th>\n",
       "      <td>USW00096405</td>\n",
       "      <td>60.4731</td>\n",
       "      <td>-145.3542</td>\n",
       "      <td>25.3</td>\n",
       "      <td>AK</td>\n",
       "      <td>CORDOVA 14 ESE</td>\n",
       "    </tr>\n",
       "    <tr>\n",
       "      <th>65166</th>\n",
       "      <td>USW00096406</td>\n",
       "      <td>64.5014</td>\n",
       "      <td>-154.1297</td>\n",
       "      <td>78.9</td>\n",
       "      <td>AK</td>\n",
       "      <td>RUBY 44 ESE 7</td>\n",
       "    </tr>\n",
       "    <tr>\n",
       "      <th>65167</th>\n",
       "      <td>USW00096407</td>\n",
       "      <td>66.5620</td>\n",
       "      <td>-159.0036</td>\n",
       "      <td>6.7</td>\n",
       "      <td>AK</td>\n",
       "      <td>SELAWIK 28 E 7</td>\n",
       "    </tr>\n",
       "    <tr>\n",
       "      <th>65168</th>\n",
       "      <td>USW00096408</td>\n",
       "      <td>63.4519</td>\n",
       "      <td>-150.8747</td>\n",
       "      <td>678.2</td>\n",
       "      <td>AK</td>\n",
       "      <td>DENALI 27 N 7</td>\n",
       "    </tr>\n",
       "    <tr>\n",
       "      <th>65169</th>\n",
       "      <td>USW00096409</td>\n",
       "      <td>68.6483</td>\n",
       "      <td>-149.3986</td>\n",
       "      <td>750.1</td>\n",
       "      <td>AK</td>\n",
       "      <td>TOOLIK LAKE 5 ENE</td>\n",
       "    </tr>\n",
       "  </tbody>\n",
       "</table>\n",
       "<p>65170 rows × 6 columns</p>\n",
       "</div>"
      ],
      "text/plain": [
       "             StnID      LAT       LON    ELEV STATE  \\\n",
       "0      US009052008  43.7333  -96.6333   482.0    SD   \n",
       "1      US10RMHS145  40.5268 -105.1113  1569.1    CO   \n",
       "2      US10adam001  40.5680  -98.5069   598.0    NE   \n",
       "3      US10adam002  40.5093  -98.5493   601.1    NE   \n",
       "4      US10adam003  40.4663  -98.6537   615.1    NE   \n",
       "...            ...      ...       ...     ...   ...   \n",
       "65165  USW00096405  60.4731 -145.3542    25.3    AK   \n",
       "65166  USW00096406  64.5014 -154.1297    78.9    AK   \n",
       "65167  USW00096407  66.5620 -159.0036     6.7    AK   \n",
       "65168  USW00096408  63.4519 -150.8747   678.2    AK   \n",
       "65169  USW00096409  68.6483 -149.3986   750.1    AK   \n",
       "\n",
       "                                NAME  \n",
       "0      SIOUX FALLS (ENVIRON. CANADA)  \n",
       "1                       RMHS 1.6 SSW  \n",
       "2                      JUNIATA 1.5 S  \n",
       "3                    JUNIATA 6.0 SSW  \n",
       "4                    HOLSTEIN 0.1 NW  \n",
       "...                              ...  \n",
       "65165                 CORDOVA 14 ESE  \n",
       "65166                  RUBY 44 ESE 7  \n",
       "65167                 SELAWIK 28 E 7  \n",
       "65168                  DENALI 27 N 7  \n",
       "65169              TOOLIK LAKE 5 ENE  \n",
       "\n",
       "[65170 rows x 6 columns]"
      ]
     },
     "execution_count": 3,
     "metadata": {},
     "output_type": "execute_result"
    }
   ],
   "source": [
    "ghcnd_stations = pd.read_csv(DATA_DOC_PATH / \"ghcnd_us_stations.csv\").rename(columns={'STATION_ID': 'StnID'})\n",
    "ghcnd_stations"
   ]
  },
  {
   "cell_type": "code",
   "execution_count": 4,
   "id": "88ff20cf",
   "metadata": {},
   "outputs": [
    {
     "data": {
      "application/vnd.microsoft.datawrangler.viewer.v0+json": {
       "columns": [
        {
         "name": "index",
         "rawType": "int64",
         "type": "integer"
        },
        {
         "name": "StnID",
         "rawType": "object",
         "type": "string"
        },
        {
         "name": "LAT",
         "rawType": "float64",
         "type": "float"
        },
        {
         "name": "LON",
         "rawType": "float64",
         "type": "float"
        },
        {
         "name": "ELEV",
         "rawType": "float64",
         "type": "float"
        },
        {
         "name": "STATE",
         "rawType": "object",
         "type": "string"
        },
        {
         "name": "NAME",
         "rawType": "object",
         "type": "string"
        },
        {
         "name": "POR_Date_Range",
         "rawType": "object",
         "type": "unknown"
        },
        {
         "name": "Num_Years",
         "rawType": "float64",
         "type": "float"
        },
        {
         "name": "PCT_POR_Good",
         "rawType": "float64",
         "type": "float"
        }
       ],
       "conversionMethod": "pd.DataFrame",
       "ref": "756eca60-2aa2-42d5-a01a-41e728fcee1e",
       "rows": [
        [
         "0",
         "US009052008",
         "43.7333",
         "-96.6333",
         "482.0",
         "SD",
         "SIOUX FALLS (ENVIRON. CANADA)",
         "20081008-20160106",
         "9.0",
         "89.1"
        ],
        [
         "1",
         "US10RMHS145",
         "40.5268",
         "-105.1113",
         "1569.1",
         "CO",
         "RMHS 1.6 SSW",
         null,
         "0.0",
         null
        ],
        [
         "2",
         "US10adam001",
         "40.568",
         "-98.5069",
         "598.0",
         "NE",
         "JUNIATA 1.5 S",
         null,
         "0.0",
         null
        ]
       ],
       "shape": {
        "columns": 9,
        "rows": 3
       }
      },
      "text/html": [
       "<div>\n",
       "<style scoped>\n",
       "    .dataframe tbody tr th:only-of-type {\n",
       "        vertical-align: middle;\n",
       "    }\n",
       "\n",
       "    .dataframe tbody tr th {\n",
       "        vertical-align: top;\n",
       "    }\n",
       "\n",
       "    .dataframe thead th {\n",
       "        text-align: right;\n",
       "    }\n",
       "</style>\n",
       "<table border=\"1\" class=\"dataframe\">\n",
       "  <thead>\n",
       "    <tr style=\"text-align: right;\">\n",
       "      <th></th>\n",
       "      <th>StnID</th>\n",
       "      <th>LAT</th>\n",
       "      <th>LON</th>\n",
       "      <th>ELEV</th>\n",
       "      <th>STATE</th>\n",
       "      <th>NAME</th>\n",
       "      <th>POR_Date_Range</th>\n",
       "      <th>Num_Years</th>\n",
       "      <th>PCT_POR_Good</th>\n",
       "    </tr>\n",
       "  </thead>\n",
       "  <tbody>\n",
       "    <tr>\n",
       "      <th>0</th>\n",
       "      <td>US009052008</td>\n",
       "      <td>43.7333</td>\n",
       "      <td>-96.6333</td>\n",
       "      <td>482.0</td>\n",
       "      <td>SD</td>\n",
       "      <td>SIOUX FALLS (ENVIRON. CANADA)</td>\n",
       "      <td>20081008-20160106</td>\n",
       "      <td>9.0</td>\n",
       "      <td>89.1</td>\n",
       "    </tr>\n",
       "    <tr>\n",
       "      <th>1</th>\n",
       "      <td>US10RMHS145</td>\n",
       "      <td>40.5268</td>\n",
       "      <td>-105.1113</td>\n",
       "      <td>1569.1</td>\n",
       "      <td>CO</td>\n",
       "      <td>RMHS 1.6 SSW</td>\n",
       "      <td>NaN</td>\n",
       "      <td>0.0</td>\n",
       "      <td>NaN</td>\n",
       "    </tr>\n",
       "    <tr>\n",
       "      <th>2</th>\n",
       "      <td>US10adam001</td>\n",
       "      <td>40.5680</td>\n",
       "      <td>-98.5069</td>\n",
       "      <td>598.0</td>\n",
       "      <td>NE</td>\n",
       "      <td>JUNIATA 1.5 S</td>\n",
       "      <td>NaN</td>\n",
       "      <td>0.0</td>\n",
       "      <td>NaN</td>\n",
       "    </tr>\n",
       "  </tbody>\n",
       "</table>\n",
       "</div>"
      ],
      "text/plain": [
       "         StnID      LAT       LON    ELEV STATE  \\\n",
       "0  US009052008  43.7333  -96.6333   482.0    SD   \n",
       "1  US10RMHS145  40.5268 -105.1113  1569.1    CO   \n",
       "2  US10adam001  40.5680  -98.5069   598.0    NE   \n",
       "\n",
       "                            NAME     POR_Date_Range  Num_Years  PCT_POR_Good  \n",
       "0  SIOUX FALLS (ENVIRON. CANADA)  20081008-20160106        9.0          89.1  \n",
       "1                   RMHS 1.6 SSW                NaN        0.0           NaN  \n",
       "2                  JUNIATA 1.5 S                NaN        0.0           NaN  "
      ]
     },
     "execution_count": 4,
     "metadata": {},
     "output_type": "execute_result"
    }
   ],
   "source": [
    "ghcnd_stations[[\"POR_Date_Range\", \"Num_Years\", \"PCT_POR_Good\"]] = ghcnd_stations.apply(lambda row: get_stn_tmean_summary(row[\"StnID\"]), axis=1, result_type='expand')\n",
    "ghcnd_stations.head(3)"
   ]
  },
  {
   "cell_type": "code",
   "execution_count": 5,
   "id": "9fba235f",
   "metadata": {},
   "outputs": [],
   "source": [
    "ghcnd_stations.to_csv(DATA_DOC_PATH / \"GHCND_TMEAN_station_info.csv\", index=False)"
   ]
  }
 ],
 "metadata": {
  "kernelspec": {
   "display_name": "geostat",
   "language": "python",
   "name": "python3"
  },
  "language_info": {
   "codemirror_mode": {
    "name": "ipython",
    "version": 3
   },
   "file_extension": ".py",
   "mimetype": "text/x-python",
   "name": "python",
   "nbconvert_exporter": "python",
   "pygments_lexer": "ipython3",
   "version": "3.11.6"
  }
 },
 "nbformat": 4,
 "nbformat_minor": 5
}
